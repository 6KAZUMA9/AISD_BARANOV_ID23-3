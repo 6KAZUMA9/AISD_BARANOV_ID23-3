{
 "cells": [
  {
   "cell_type": "markdown",
   "id": "79c54031-d289-488a-a5f8-21c29b655e2b",
   "metadata": {},
   "source": [
    "32.4 Используя модуль array и библиотеку numpy, решить следующие задачи:\n",
    "а) Дано число  R  и массив размера  N . Найти два соседних элемента массива, сумма которых наиболее близка к числу  R , и вывести эти элементы в порядке возрастания их индексов.\n",
    "б) Дана целочисленная матрица размера  M×N . Найти номер первого из ее столбцов, содержащих максимальное количество одинаковых элементов."
   ]
  },
  {
   "cell_type": "code",
   "execution_count": 1,
   "id": "b6f6b635-090f-40a8-8750-5f9bd51e7a97",
   "metadata": {},
   "outputs": [
    {
     "name": "stdout",
     "output_type": "stream",
     "text": [
      "Индексы двух соседних элементов с суммой, ближайшей к 10 : [0, 3]\n",
      "Номер столбца с максимальным количеством одинаковых элементов: 1\n"
     ]
    }
   ],
   "source": [
    "import numpy as np\n",
    "\n",
    "def find_nearest_sum_pair(arr, R):\n",
    "    arr = np.array(arr)\n",
    "    min_diff = np.inf\n",
    "    pair = None\n",
    "\n",
    "    for i in range(len(arr) - 1):\n",
    "        for j in range(i+1, len(arr)):\n",
    "            current_sum = arr[i] + arr[j]\n",
    "            diff = abs(current_sum - R)\n",
    "            if diff < min_diff:\n",
    "                min_diff = diff\n",
    "                pair = (i, j)\n",
    "\n",
    "    return sorted(pair)\n",
    "\n",
    "# Пример использования\n",
    "R = 10\n",
    "N = [1, 3, 7, 9, 2, 5]\n",
    "result = find_nearest_sum_pair(N, R)\n",
    "print(\"Индексы двух соседних элементов с суммой, ближайшей к\", R, \":\", result)\n",
    "\n",
    "def find_column_with_most_equal_elements(matrix):\n",
    "    matrix = np.array(matrix)\n",
    "    max_count = 0\n",
    "    column_index = None\n",
    "\n",
    "    for i in range(matrix.shape[1]):\n",
    "        unique, counts = np.unique(matrix[:, i], return_counts=True)\n",
    "        current_max_count = np.max(counts)\n",
    "        if current_max_count > max_count:\n",
    "            max_count = current_max_count\n",
    "            column_index = i\n",
    "\n",
    "    return column_index\n",
    "\n",
    "# Пример использования\n",
    "M = np.array([[1, 2, 3], [4, 2, 2], [7, 7, 7]])\n",
    "result = find_column_with_most_equal_elements(M)\n",
    "print(\"Номер столбца с максимальным количеством одинаковых элементов:\", result)\n"
   ]
  },
  {
   "cell_type": "markdown",
   "id": "42d15dc6-3512-419c-a6fd-2ae436f90d92",
   "metadata": {},
   "source": [
    "33.4\n",
    "Дан стек. Необходимо проверить, есть ли в нем повторяющиеся элементы. Вывести повторяющиеся элементы, если они есть."
   ]
  },
  {
   "cell_type": "code",
   "execution_count": 2,
   "id": "f8ef6056-8fc0-4be5-ba81-577c34938ce0",
   "metadata": {},
   "outputs": [
    {
     "name": "stdout",
     "output_type": "stream",
     "text": [
      "Повторяющиеся элементы в стеке: {2}\n"
     ]
    }
   ],
   "source": [
    "class Stack:\n",
    "    def __init__(self):\n",
    "        self.items = []\n",
    "\n",
    "    def is_empty(self):\n",
    "        return len(self.items) == 0\n",
    "\n",
    "    def push(self, item):\n",
    "        self.items.append(item)\n",
    "\n",
    "    def pop(self):\n",
    "        if not self.is_empty():\n",
    "            return self.items.pop()\n",
    "        else:\n",
    "            return None\n",
    "\n",
    "    def peek(self):\n",
    "        if not self.is_empty():\n",
    "            return self.items[-1]\n",
    "        else:\n",
    "            return None\n",
    "\n",
    "def check_duplicates_in_stack(stack):\n",
    "    seen = set()\n",
    "    duplicates = set()\n",
    "\n",
    "    while not stack.is_empty():\n",
    "        current_item = stack.pop()\n",
    "        if current_item in seen:\n",
    "            duplicates.add(current_item)\n",
    "        seen.add(current_item)\n",
    "\n",
    "    return duplicates\n",
    "\n",
    "# Пример использования\n",
    "stack = Stack()\n",
    "stack.push(1)\n",
    "stack.push(2)\n",
    "stack.push(3)\n",
    "stack.push(2)\n",
    "stack.push(4)\n",
    "\n",
    "duplicates = check_duplicates_in_stack(stack)\n",
    "\n",
    "if duplicates:\n",
    "    print(\"Повторяющиеся элементы в стеке:\", duplicates)\n",
    "else:\n",
    "    print(\"Повторяющихся элементов в стеке нет.\")\n"
   ]
  },
  {
   "cell_type": "markdown",
   "id": "2fbe1578-d15d-4ce1-9f83-6df0b92e35a2",
   "metadata": {},
   "source": [
    "34.4\n",
    "Создать класс очереди, который будет поддерживать операции добавления элемента в конец очереди и удаления элемента из середины очереди по индексу."
   ]
  },
  {
   "cell_type": "code",
   "execution_count": 3,
   "id": "6b057a37-1c73-4139-b6bb-9068ef4fb50d",
   "metadata": {},
   "outputs": [
    {
     "name": "stdout",
     "output_type": "stream",
     "text": [
      "Очередь: [1, 2, 3, 4]\n",
      "Удаленный элемент: 2\n",
      "Очередь после удаления элемента: [1, 3, 4]\n"
     ]
    }
   ],
   "source": [
    "class Queue:\n",
    "    def __init__(self):\n",
    "        self.items = []\n",
    "\n",
    "    def is_empty(self):\n",
    "        return len(self.items) == 0\n",
    "\n",
    "    def enqueue(self, item):\n",
    "        self.items.append(item)\n",
    "\n",
    "    def dequeue(self):\n",
    "        if not self.is_empty():\n",
    "            return self.items.pop(0)\n",
    "        else:\n",
    "            return None\n",
    "\n",
    "    def remove_at_index(self, index):\n",
    "        if index < 0 or index >= len(self.items):\n",
    "            return None\n",
    "        else:\n",
    "            return self.items.pop(index)\n",
    "\n",
    "# Пример использования\n",
    "queue = Queue()\n",
    "queue.enqueue(1)\n",
    "queue.enqueue(2)\n",
    "queue.enqueue(3)\n",
    "queue.enqueue(4)\n",
    "\n",
    "print(\"Очередь:\", queue.items)\n",
    "\n",
    "removed_item = queue.remove_at_index(1)\n",
    "if removed_item is not None:\n",
    "    print(\"Удаленный элемент:\", removed_item)\n",
    "else:\n",
    "    print(\"Неверный индекс.\")\n",
    "\n",
    "print(\"Очередь после удаления элемента:\", queue.items)\n"
   ]
  },
  {
   "cell_type": "code",
   "execution_count": null,
   "id": "c9b4b4d1-db55-4a1b-9518-8f59edc8af34",
   "metadata": {},
   "outputs": [],
   "source": []
  }
 ],
 "metadata": {
  "kernelspec": {
   "display_name": "Python 3 (ipykernel)",
   "language": "python",
   "name": "python3"
  },
  "language_info": {
   "codemirror_mode": {
    "name": "ipython",
    "version": 3
   },
   "file_extension": ".py",
   "mimetype": "text/x-python",
   "name": "python",
   "nbconvert_exporter": "python",
   "pygments_lexer": "ipython3",
   "version": "3.12.3"
  }
 },
 "nbformat": 4,
 "nbformat_minor": 5
}
