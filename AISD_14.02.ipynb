{
 "cells": [
  {
   "cell_type": "markdown",
   "id": "027bc432-0f94-4793-ad29-87d3d6976772",
   "metadata": {},
   "source": [
    "Задача 1"
   ]
  },
  {
   "cell_type": "code",
   "execution_count": 2,
   "id": "43c6323e-0478-4b55-b85f-b84551a8b9cc",
   "metadata": {},
   "outputs": [
    {
     "name": "stdin",
     "output_type": "stream",
     "text": [
      " ((dsasdas((das(d)das)d)asd)da)\n"
     ]
    },
    {
     "name": "stdout",
     "output_type": "stream",
     "text": [
      "True\n"
     ]
    }
   ],
   "source": [
    "class Stack:\n",
    "\n",
    "    def __init__(self, start_str=\"\") -> None:\n",
    "        self.stack = start_str\n",
    "        self.flag = True\n",
    "\n",
    "    def right_bracket(self):\n",
    "        while self.flag:\n",
    "            if self.stack.find('(') == -1 and self.stack.rfind(')') == -1:\n",
    "                return True\n",
    "            if self.stack.find('(') == -1 or self.stack.rfind(')') == -1:\n",
    "                return False\n",
    "            else:\n",
    "                self.stack = self.stack.replace('(', ' ', 1)\n",
    "                self.stack = self.stack.replace(')', ' ', 1)\n",
    "\n",
    "\n",
    "S = Stack(input())\n",
    "print(S.right_bracket())\n"
   ]
  },
  {
   "cell_type": "code",
   "execution_count": 3,
   "id": "f68e849e-575c-4a66-a113-8f64269759b6",
   "metadata": {},
   "outputs": [
    {
     "name": "stdin",
     "output_type": "stream",
     "text": [
      " (f(gfhd((hgfdg((fghh)dads)das))ds)adddads())))\n"
     ]
    },
    {
     "name": "stdout",
     "output_type": "stream",
     "text": [
      "False\n"
     ]
    }
   ],
   "source": [
    "class Stack:\n",
    "\n",
    "    def __init__(self, start_str=\"\") -> None:\n",
    "        self.stack = start_str\n",
    "        self.flag = True\n",
    "\n",
    "    def right_bracket(self):\n",
    "        while self.flag:\n",
    "            if self.stack.find('(') == -1 and self.stack.rfind(')') == -1:\n",
    "                return True\n",
    "            if self.stack.find('(') == -1 or self.stack.rfind(')') == -1:\n",
    "                return False\n",
    "            else:\n",
    "                self.stack = self.stack.replace('(', ' ', 1)\n",
    "                self.stack = self.stack.replace(')', ' ', 1)\n",
    "\n",
    "\n",
    "S = Stack(input())\n",
    "print(S.right_bracket())\n"
   ]
  },
  {
   "cell_type": "markdown",
   "id": "5118c460-d844-4360-a9d2-928015a2a90a",
   "metadata": {},
   "source": [
    "Задача 2"
   ]
  },
  {
   "cell_type": "code",
   "execution_count": null,
   "id": "065d6115-fd11-4e46-8325-22e53d632a7b",
   "metadata": {},
   "outputs": [],
   "source": [
    "class Stack:\n",
    "\n",
    "    def __init__(self, stack_size):\n",
    "        self.stack = []\n",
    "        self.stack_size = stack_size\n",
    "\n",
    "    def push(self, item):\n",
    "        if len(self.stack) == self.stack_size:\n",
    "            raise \"Стек полон\"\n",
    "        else:\n",
    "            self.stack.append(item)\n",
    "\n",
    "    def pop(self):\n",
    "        if len(self.stack) == 0:\n",
    "            raise \"Стек пуст\"\n",
    "        return self.stack.pop()\n",
    "\n",
    "    def top(self):\n",
    "        if len(self.stack) == 0:\n",
    "            raise \"Стек пуст\"\n",
    "        return self.stack[-1]\n",
    "\n",
    "    def is_empty(self):\n",
    "        return len(self.stack) == 0\n",
    "\n",
    "    def len(self):\n",
    "        return len(self.stack)\n",
    "\n",
    "\n",
    "S = Stack(2)\n",
    "S.push(3)\n",
    "S.push(5)\n",
    "print(S.pop())\n",
    "print(S.is_empty())\n",
    "print(S.top())\n",
    "print(S.len())\n"
   ]
  },
  {
   "cell_type": "markdown",
   "id": "8d09e74f-db6d-48ed-b122-e29ddbcc335c",
   "metadata": {},
   "source": [
    "Задача 3"
   ]
  },
  {
   "cell_type": "code",
   "execution_count": null,
   "id": "7b3bb266-8030-4353-b5e6-bae0a448cb28",
   "metadata": {},
   "outputs": [],
   "source": [
    "class Node:\n",
    "    def __init__(self, element: int, next=None):\n",
    "        self.element = element\n",
    "        self.next = next\n",
    "\n",
    "\n",
    "class ListedList:\n",
    "    def __init__(self):\n",
    "        self.head = None\n",
    "\n",
    "    def append(self, element):\n",
    "        if not self.head:\n",
    "            self.head = Node(element)\n",
    "            return element\n",
    "        node = Node(element)\n",
    "        node.next = self.head\n",
    "        self.head = node\n",
    "\n",
    "    def output(self):\n",
    "        node = self.head\n",
    "        while node.next:\n",
    "            print(node.element)\n",
    "            node = node.next\n",
    "        print(node.element)\n",
    "\n",
    "\n",
    "ll = ListedList()\n",
    "ll.append(10)\n",
    "ll.append(11)\n",
    "ll.append(12)\n",
    "ll.output()\n",
    "\n"
   ]
  },
  {
   "cell_type": "markdown",
   "id": "487f77cc-72db-4298-a344-d9637edcfb4f",
   "metadata": {},
   "source": [
    "Задание 4"
   ]
  },
  {
   "cell_type": "code",
   "execution_count": null,
   "id": "115587c5-64d6-458a-9b91-79c525b42cbc",
   "metadata": {},
   "outputs": [],
   "source": [
    "class Node:\n",
    "    def __init__(self, element: int, next=None, prev=None):\n",
    "        self.prev = prev\n",
    "        self.next = next\n",
    "        self.element = element\n",
    "\n",
    "\n",
    "class LinkedList:\n",
    "    def __init__(self, head=None, tail=None):\n",
    "        self.head = head\n",
    "        self.tail = tail\n",
    "\n",
    "    def append(self, element: int):\n",
    "        node = Node(element)\n",
    "        if not self.head:\n",
    "            self.head = node\n",
    "            self.tail = node\n",
    "        else:\n",
    "            node.next = self.head\n",
    "            self.head.prev = node\n",
    "            self.head = node\n",
    "\n",
    "    def output(self):\n",
    "        node = self.head\n",
    "        while node.next:\n",
    "            print(node.element)\n",
    "            node = node.next\n",
    "        print(node.element)\n",
    "\n",
    "\n",
    "ll = LinkedList()\n",
    "ll.append(3)\n",
    "ll.append(5)\n",
    "ll.append(7)\n",
    "ll.output()\n"
   ]
  },
  {
   "cell_type": "markdown",
   "id": "7d55cc00-92b0-4f94-88f1-26d60a7fa393",
   "metadata": {},
   "source": [
    "Задача 5"
   ]
  },
  {
   "cell_type": "code",
   "execution_count": null,
   "id": "02a00c6f-8b86-4773-a57d-ca6814d64f89",
   "metadata": {},
   "outputs": [],
   "source": [
    "class Node:\n",
    "    def __init__(self, value):\n",
    "        self.value = value\n",
    "        self.next = None\n",
    "\n",
    "\n",
    "class LinkedList:\n",
    "    def __init__(self):\n",
    "        self.head = None\n",
    "        self.tail = None\n",
    "\n",
    "    def enqueue(self, value):\n",
    "        node = Node(value)\n",
    "        if self.tail:\n",
    "            self.tail.next = node\n",
    "            self.tail = node\n",
    "        else:\n",
    "            self.head = node\n",
    "            self.tail = node\n",
    "\n",
    "    def dequeue(self):\n",
    "        if self.head:\n",
    "            value = self.head.value\n",
    "            self.head = self.head.next\n",
    "            if self.head is None:\n",
    "                self.tail = None\n",
    "            return value\n",
    "        else:\n",
    "            raise IndexError(\"Queue is empty\")\n",
    "\n",
    "\n",
    "queue = LinkedList()\n",
    "queue.enqueue(1)\n",
    "queue.enqueue(2)\n",
    "queue.enqueue(3)\n",
    "\n",
    "print(queue.dequeue())\n",
    "print(queue.dequeue())\n",
    "\n",
    "print(queue.dequeue())\n"
   ]
  }
 ],
 "metadata": {
  "kernelspec": {
   "display_name": "Python 3 (ipykernel)",
   "language": "python",
   "name": "python3"
  },
  "language_info": {
   "codemirror_mode": {
    "name": "ipython",
    "version": 3
   },
   "file_extension": ".py",
   "mimetype": "text/x-python",
   "name": "python",
   "nbconvert_exporter": "python",
   "pygments_lexer": "ipython3",
   "version": "3.9.7"
  }
 },
 "nbformat": 4,
 "nbformat_minor": 5
}
