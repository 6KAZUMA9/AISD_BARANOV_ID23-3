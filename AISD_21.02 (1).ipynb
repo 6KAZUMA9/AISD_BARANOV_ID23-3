{
 "cells": [
  {
   "cell_type": "markdown",
   "id": "6a7d4830-8b9f-409c-bbdc-8bbb3df9505d",
   "metadata": {},
   "source": [
    "Задача 1"
   ]
  },
  {
   "cell_type": "code",
   "execution_count": null,
   "id": "892cfe89-1af6-488d-b102-372d213425e3",
   "metadata": {},
   "outputs": [],
   "source": [
    "import collections\n",
    "import csv\n",
    "\n",
    "def file_counter(file_name, counter=100):\n",
    "    with open(file_name, \"r\") as myfile:\n",
    "        data = myfile.read().replace('\\n', ' ')\n",
    "\n",
    "    list_of_letters = data.split(' ')\n",
    "    letter_cnt = collections.Counter(list_of_letters)\n",
    "    letter_cnt = letter_cnt.most_common()\n",
    "    if 'csv' in counter:\n",
    "        with open(counter, 'w') as csvfile:\n",
    "            arr = csv.writer(csvfile, delimiter=' ')\n",
    "            arr.writerow(['слово', 'частота'])\n",
    "            arr.writerows(letter_cnt)\n",
    "    else:\n",
    "        counter = int(counter)\n",
    "        for i in range(len(letter_cnt)):\n",
    "            counter -=1\n",
    "            print(*letter_cnt[i])\n",
    "            if counter == 0:\n",
    "                return 0\n",
    "\n",
    "\n",
    "inp = input('введите название файла: \\n').split()\n",
    "file_counter(*inp)\n"
   ]
  },
  {
   "cell_type": "markdown",
   "id": "70e40df8-10cc-4bc8-ade7-8169254b4b8d",
   "metadata": {},
   "source": [
    "Задача 2"
   ]
  },
  {
   "cell_type": "code",
   "execution_count": null,
   "id": "c4565455-7f79-4c70-8e0b-e85ea945cffc",
   "metadata": {},
   "outputs": [],
   "source": [
    "import sys\n",
    "\n",
    "\n",
    "def summ(num):\n",
    "\n",
    "    s = 0.0\n",
    "    for n in num:\n",
    "        try:\n",
    "            s += float(n)\n",
    "        except\n",
    "            print('в ввели не только числа')\n",
    "            return\n",
    "    return s\n",
    "\n",
    "def mult(num):\n",
    "    m = 1\n",
    "    for n in num:\n",
    "        try:\n",
    "            m *= float(n)\n",
    "        except:\n",
    "            print('в ввели не только числа')\n",
    "            return\n",
    "    return m"
   ]
  },
  {
   "cell_type": "markdown",
   "id": "dd479002-263f-4cdd-9d37-cd84ef12664d",
   "metadata": {},
   "source": [
    "Задача 3"
   ]
  },
  {
   "cell_type": "code",
   "execution_count": null,
   "id": "9daefff9-8dfb-4b5f-91b4-7d8299f7b24c",
   "metadata": {},
   "outputs": [],
   "source": [
    "def summa(slag):\n",
    "    sum = 0\n",
    "    for el in slag:\n",
    "        sum += float(el)\n",
    "    return sum\n",
    "\n",
    "\n",
    "def multiply(slag):\n",
    "    res = 1\n",
    "    for el in slag:\n",
    "        res = res * float(el)\n",
    "    return res\n",
    "\n",
    "\n",
    "def operation(par, slag):\n",
    "    if par == 'sum' or par == 'mul':\n",
    "        if par == 'sum':\n",
    "            return summa(slag)\n",
    "\n",
    "        else:\n",
    "            return multiply(slag)\n",
    "\n",
    "    else:\n",
    "        pass\n",
    "\n",
    "\n",
    "print(operation(str(input('действие: ')), input('слашаемые: ').split()))\n"
   ]
  },
  {
   "cell_type": "markdown",
   "id": "27a83fdf-d30b-47a8-9868-6b2ed37f7d9a",
   "metadata": {},
   "source": [
    "Задача 4"
   ]
  },
  {
   "cell_type": "code",
   "execution_count": null,
   "id": "d4ef88dc-626f-4ed2-941f-4ab56cb50531",
   "metadata": {},
   "outputs": [],
   "source": [
    "import sys\n",
    "\n",
    "import words2numsrus\n",
    "\n",
    "\n",
    "def calculate(input_file, output_file):\n",
    "    with open(input_file, 'r', encoding='utf-8') as f:  # берем из файла текст\n",
    "        content = f.read()\n",
    "    extractor = words2numsrus.NumberExtractor()\n",
    "    converted_content = extractor.replace_groups(content)  # uспользуем библиотеку преобразовываем числа\n",
    "    words = converted_content.split()  # преобразуем слова в цифры при этом никуда не заисываем их\n",
    "    summ = int(words[0])  # первое число в примере\n",
    "    for i in range(len(words) - 1):\n",
    "        if words[i] == '+' or words[i].lower() == \"плюс\":\n",
    "            summ += int(words[i + 1])\n",
    "        elif words[i] == '-' or words[i].lower() == 'минус':  # проверка на минус\n",
    "            summ -= int(words[i + 1])\n",
    "    with open(output_file, 'w', encoding='utf-8') as f:  # запись 8 фaйл\n",
    "        f.write(str(summ))\n",
    "\n",
    "\n",
    "def convert_to_numbers(input_file, output_file):\n",
    "    with open(input_file, 'r', encoding='utf-8') as f:  # берем из файла текст\n",
    "        content = f.read()\n",
    "    extractor = words2numsrus.NumberExtractor()\n",
    "    converted_content = extractor.replace_groups(content)  # используем библиотеку преобразобываем числа\n",
    "    with open(output_file, 'w', encoding=\"utf-8\") as f:  # запись в файл\n",
    "        f.write(str(converted_content))\n",
    "\n",
    "\n",
    "if __name__ == \"__main__\":\n",
    "    if len(sys.argv) < 3:\n",
    "        print(\"Неверный ввод\")\n",
    "        sys.exit(1)\n",
    "    input_file = sys.argv[2]\n",
    "    output_file = sys.argy[3] if len(sys.argv) - - 4 else sys.argy[\n",
    "        2]  # если не указан выходной файл делаем входной выходным\n",
    "    if sys.argv[1] == 'to_numbers':\n",
    "        convert_to_numbers(input_file, output_file)\n",
    "    else:\n",
    "        calculate(input_file, output_file)\n",
    "# python calculate.py calculate file_4_zadanie_aisd.txt\n"
   ]
  }
 ],
 "metadata": {
  "kernelspec": {
   "display_name": "Python 3 (ipykernel)",
   "language": "python",
   "name": "python3"
  },
  "language_info": {
   "codemirror_mode": {
    "name": "ipython",
    "version": 3
   },
   "file_extension": ".py",
   "mimetype": "text/x-python",
   "name": "python",
   "nbconvert_exporter": "python",
   "pygments_lexer": "ipython3",
   "version": "3.9.7"
  }
 },
 "nbformat": 4,
 "nbformat_minor": 5
}
